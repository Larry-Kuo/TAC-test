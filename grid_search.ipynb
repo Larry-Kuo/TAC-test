{
 "cells": [
  {
   "cell_type": "code",
   "execution_count": 71,
   "metadata": {},
   "outputs": [],
   "source": [
    "import pandas as pd"
   ]
  },
  {
   "cell_type": "code",
   "execution_count": null,
   "metadata": {},
   "outputs": [],
   "source": [
    "# 讀取試算表\n",
    "df = pd.read_excel('augment_test.xlsx')\n",
    "for i in range(len(df)):\n",
    "    if df['Similo result'][i] == \"unknown\":\n",
    "        df.drop(i,axis=0, inplace=True)\n",
    "        \n",
    "# 設定顯示格式選項\n",
    "pd.set_option('display.float_format', '{:.2f}'.format)  # 顯示小數位數為兩位\n",
    "\n",
    "# 將DataFrame按照格式印出\n",
    "print(df.to_string(index=False))"
   ]
  },
  {
   "attachments": {},
   "cell_type": "markdown",
   "metadata": {},
   "source": [
    "['Old xpath', 'New xpath (ground truth)', 'TAC xpath', 'Similo xpath',\n",
    "       'TAC result', 'Similo result', 'TAC Sim', 'SIM Sim']"
   ]
  },
  {
   "cell_type": "code",
   "execution_count": 76,
   "metadata": {},
   "outputs": [
    {
     "name": "stdout",
     "output_type": "stream",
     "text": [
      "threshold_0:\n",
      "pos: 0\tneg: 0\n",
      "correct: 61\tincorrect: 114\t accuracy: 0.3485714285714286\n",
      "threshold_1:\n",
      "pos: 0\tneg: 0\n",
      "correct: 61\tincorrect: 114\t accuracy: 0.3485714285714286\n",
      "threshold_2:\n",
      "pos: 2\tneg: 0\n",
      "correct: 61\tincorrect: 114\t accuracy: 0.3485714285714286\n",
      "threshold_3:\n",
      "pos: 6\tneg: 1\n",
      "correct: 65\tincorrect: 110\t accuracy: 0.37142857142857144\n",
      "threshold_4:\n",
      "pos: 32\tneg: 8\n",
      "correct: 85\tincorrect: 90\t accuracy: 0.4857142857142857\n",
      "threshold_5:\n",
      "pos: 78\tneg: 20\n",
      "correct: 49\tincorrect: 126\t accuracy: 0.28\n",
      "threshold_6:\n",
      "pos: 88\tneg: 34\n",
      "correct: 48\tincorrect: 127\t accuracy: 0.2742857142857143\n",
      "threshold_7:\n",
      "pos: 91\tneg: 56\n",
      "correct: 65\tincorrect: 110\t accuracy: 0.37142857142857144\n"
     ]
    }
   ],
   "source": [
    "THRESHOLDS = [0,1,2,3,4,5,6,7] #測試每一個閾值\n",
    "LEN = len(df) #全部df的長度\n",
    "df_thresholds = [pd.DataFrame() for _ in range(len(THRESHOLDS))]\n",
    "# 設定顯示格式選項\n",
    "pd.set_option('display.float_format', '{:.2f}'.format)  # 顯示小數位數為兩位\n",
    "for threshold in THRESHOLDS:\n",
    "    print(f\"threshold_{threshold}:\")\n",
    "    change_pos = 0\n",
    "    change_neg = 0\n",
    "    df_thresholds[threshold] = df.copy(deep=True)\n",
    "    for index, row in df_thresholds[threshold].iterrows():\n",
    "        # 檢查similarity有沒有低於threshold\n",
    "        if row['SIM Sim'] < threshold:\n",
    "            df_thresholds[threshold].at[index, \"Similo result\"] = \"-\" # 把找到的結果改成\"-\"\n",
    "            if row['New xpath (ground truth)'] == \"-\": # 檢查正解是不是元素消失\n",
    "                df_thresholds[threshold].at[index, \"Similo result\"] = \"correct\"\n",
    "                change_pos+=1\n",
    "            else: # 如果把對的改成錯的\n",
    "                df_thresholds[threshold].at[index, \"Similo result\"] = \"incorrect\" \n",
    "                change_neg+=1\n",
    "    incorrect = df_thresholds[threshold][\"Similo result\"].value_counts().values[0]\n",
    "    correct = df_thresholds[threshold][\"Similo result\"].value_counts().values[1]\n",
    "    print(f\"pos: {change_pos}\\tneg: {change_neg}\")\n",
    "    print(f\"correct: {correct}\\tincorrect: {incorrect}\\t accuracy: {correct/LEN}\")\n",
    "    "
   ]
  }
 ],
 "metadata": {
  "kernelspec": {
   "display_name": "Python 3",
   "language": "python",
   "name": "python3"
  },
  "language_info": {
   "codemirror_mode": {
    "name": "ipython",
    "version": 3
   },
   "file_extension": ".py",
   "mimetype": "text/x-python",
   "name": "python",
   "nbconvert_exporter": "python",
   "pygments_lexer": "ipython3",
   "version": "3.8.10"
  },
  "orig_nbformat": 4
 },
 "nbformat": 4,
 "nbformat_minor": 2
}
